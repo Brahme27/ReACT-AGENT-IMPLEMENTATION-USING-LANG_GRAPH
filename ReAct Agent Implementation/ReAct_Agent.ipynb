{
 "cells": [
  {
   "cell_type": "code",
   "execution_count": 62,
   "id": "e80ea00d",
   "metadata": {},
   "outputs": [],
   "source": [
    "from langchain_community.tools import ArxivQueryRun,WikipediaQueryRun\n",
    "from langchain_community.utilities import WikipediaAPIWrapper,ArxivAPIWrapper"
   ]
  },
  {
   "cell_type": "code",
   "execution_count": 63,
   "id": "d76e5d35",
   "metadata": {},
   "outputs": [],
   "source": [
    "arxiv_api_wrapper = ArxivAPIWrapper(top_k_results=2,doc_content_chars_max=500)\n",
    "arxiv_tool=ArxivQueryRun(api_wrapper=arxiv_api_wrapper)"
   ]
  },
  {
   "cell_type": "code",
   "execution_count": 64,
   "id": "dbdcd8ee",
   "metadata": {},
   "outputs": [
    {
     "data": {
      "text/plain": [
       "\"Published: 2024-07-22\\nTitle: Attention Is All You Need But You Don't Need All Of It For Inference of Large Language Models\\nAuthors: Georgy Tyukin, Gbetondji J-S Dovonon, Jean Kaddour, Pasquale Minervini\\nSummary: The inference demand for LLMs has skyrocketed in recent months, and serving\\nmodels with low latencies remains challenging due to the quadratic input length\\ncomplexity of the attention layers. In this work, we investigate the effect of\\ndropping MLP and attention layers at inference time o\""
      ]
     },
     "execution_count": 64,
     "metadata": {},
     "output_type": "execute_result"
    }
   ],
   "source": [
    "arxiv_tool.invoke(\"Attention is all you need\")"
   ]
  },
  {
   "cell_type": "code",
   "execution_count": 65,
   "id": "74283779",
   "metadata": {},
   "outputs": [],
   "source": [
    "wiki_api_wrapper=WikipediaAPIWrapper(top_k_results=1,doc_content_chars_max=500)\n",
    "wiki_tool=WikipediaQueryRun(api_wrapper=wiki_api_wrapper)"
   ]
  },
  {
   "cell_type": "code",
   "execution_count": 66,
   "id": "81015790",
   "metadata": {},
   "outputs": [
    {
     "data": {
      "text/plain": [
       "'Page: Machine learning\\nSummary: Machine learning (ML) is a field of study in artificial intelligence concerned with the development and study of statistical algorithms that can learn from data and generalise to unseen data, and thus perform tasks without explicit instructions. Within a subdiscipline in machine learning, advances in the field of deep learning have allowed neural networks, a class of statistical algorithms, to surpass many previous machine learning approaches in performance.\\nML fi'"
      ]
     },
     "execution_count": 66,
     "metadata": {},
     "output_type": "execute_result"
    }
   ],
   "source": [
    "wiki_tool.invoke(\"what is Machine Learning?\")"
   ]
  },
  {
   "cell_type": "code",
   "execution_count": 67,
   "id": "202bc76e",
   "metadata": {},
   "outputs": [],
   "source": [
    "from dotenv import load_dotenv\n",
    "load_dotenv()\n",
    "\n",
    "import os \n",
    "\n",
    "os.environ[\"OPENAI_API_KEY\"] = os.getenv(\"OPENAI_API_KEY\")\n",
    "os.environ[\"GROQ_API_KEY\"] = os.getenv(\"GROQ_API_KEY\")\n",
    "os.environ[\"LANGCHAIN_API_KEY\"] = os.getenv(\"LANGCHAIN_API_KEY\")\n",
    "os.environ[\"LANGCHAIN_TRACING_V2\"] = \"true\"\n",
    "os.environ[\"LANGCHAIN_PROJECT\"] = \"ReAct_Agent\""
   ]
  },
  {
   "cell_type": "code",
   "execution_count": 68,
   "id": "1af79bf0",
   "metadata": {},
   "outputs": [],
   "source": [
    "## Custom Functions\n",
    "def multiply(a:int,b:int)->int:\n",
    "    \"\"\" \n",
    "    Multiply a and b\n",
    "\n",
    "    Args:\n",
    "        a: first int\n",
    "        b: second int\n",
    "    \"\"\"\n",
    "    return a*b \n",
    "\n",
    "# This will be a tool\n",
    "def add(a:int,b:int)->int:\n",
    "    \"\"\" \n",
    "    Adds a and b\n",
    "\n",
    "    Args: \n",
    "        a: first int\n",
    "        b: second int\n",
    "    \"\"\"\n",
    "    return a+b \n",
    "\n",
    "def divide(a:int,b:int)->float:\n",
    "    \"\"\"\n",
    "    Divide a and b\n",
    "\n",
    "    Args:\n",
    "        a:first int\n",
    "        b:second int \n",
    "    \"\"\"\n",
    "    return a/b \n",
    "\n"
   ]
  },
  {
   "cell_type": "code",
   "execution_count": 69,
   "id": "3d3d904c",
   "metadata": {},
   "outputs": [],
   "source": [
    "## Tavily search Tool\n",
    "from langchain_community.tools.tavily_search import TavilySearchResults\n",
    "\n",
    "tavily=TavilySearchResults()"
   ]
  },
  {
   "cell_type": "code",
   "execution_count": 70,
   "id": "f2949b56",
   "metadata": {},
   "outputs": [
    {
     "data": {
      "text/plain": [
       "[{'title': 'Ukraine-Russia war latest: New prisoner swap agreed in Istanbul ...',\n",
       "  'url': 'https://www.independent.co.uk/news/world/europe/ukraine-russia-war-trump-putin-prisoner-swap-nato-sumy-latest-b2777994.html',\n",
       "  'content': \"Ukraine-Russia war latest: New prisoner swap agreed in Istanbul includes return of 'heroes of Mariupol' On the frontline, Putin's advance in Sumy has been halted by recent Ukrainian successes\",\n",
       "  'score': 0.5585443},\n",
       " {'title': 'Countries Currently at War / Countries at War 2025',\n",
       "  'url': 'https://worldpopulationreview.com/country-rankings/countries-currently-at-war',\n",
       "  'content': 'On April 22, 2022, Russian officials revealed that Russiaâ\\x80\\x99s goal was to take control of the southeastern portion of Ukraine. Annexing this region would establish a land bridge between Russia and the Crimean peninsula, which it had previously annexed in 2014.\\n\\n## Countries Currently at War (as of September 2022)\\n\\n### Category: 10,000+ casualties in 2022\\n\\n### Myanmar [...] On April 14, 2022, the Russian guided-missile cruiser Moskva sank in the Black Sea. Ukraine claimed it had struck the ship with a missile, while Russia claimed the sinking was due to an onboard fire that set off stored ammunition. Whatever the true cause, the loss of the Moskva, a flagship of the Russian fleet, is said to have triggered â\\x80\\x9cincreasingly hostileâ\\x80\\x9d conflict in Ukraineâ\\x80\\x99s southern regions. President Zelensky and other governmental officials also reiterated public warnings that [...] On February 24, 2022, the Russian Federation began a military invasion of Ukraine, escalating a conflict that had been simmering since Russiaâ\\x80\\x99s 2014 annexation of Ukraineâ\\x80\\x99s Crimean peninsula. After officially recognizing the separatist Ukrainian regions of Donetsk and Luhansk on February 21, 2022, Russian President Vladimir Putin sent troops into Ukraine on what he termed a â\\x80\\x9cpeacekeepingâ\\x80\\x9d mission, which escalated to a large-scale invasion on Feb. 24, 2022.',\n",
       "  'score': 0.52948296},\n",
       " {'title': 'Iran Update, June 25, 2025 - Institute for the Study of War',\n",
       "  'url': 'https://www.understandingwar.org/backgrounder/iran-update-june-25-2025',\n",
       "  'content': 'follows recent reports that Iran has been unsatisfied with recent support from Russia during the Israel-Iran war. Foreign Affairs Minister Abbas Araghchi met with Russian President Vladimir Putin in Moscow on June 23, reportedly to request Russian assistance for Iran via a delivered letter from Supreme Leader Ali Khamenei. [...] The Houthis likely launched a drone targeting Israel on June 25, which is consistent with the Houthi drone and missile campaign that has targeted Israel in support of Gaza since November 2023. The IDF intercepted a drone that was “likely launched” from Yemen before it crossed into Israeli territory on June 25. The Houthis have launched hundreds of drones and ballistic missiles targeting Israel since the Houthis began their campaign to enforce an economic blockade on Israel in November 2023. The [...] that Israel used in its January 2023 drone attack on a munitions factory in Esfahan, for example.',\n",
       "  'score': 0.5201313},\n",
       " {'title': 'Russian Offensive Campaign Assessment, June 26, 2025',\n",
       "  'url': 'https://www.understandingwar.org/backgrounder/russian-offensive-campaign-assessment-june-26-2025',\n",
       "  'content': 'A servicemember of a Ukrainian brigade operating in the Vovchansk direction reported on June 26 that intense fighting continues in the Vovchansk direction and that Russian forces continue to conduct motorized assaults of three to five personnel on motorcycles. The servicemember stated that Russian forces have recently begun operating “mother drones” - large drones that carry multiple smaller first-person-view (FPV) drones -- to fly to positions in the Ukrainian rear and allow Russian forces to [...] Russian forces continued ground assaults northwest of Velyka Novosilka near Shevchenko and Vilne Pole and toward Voskresenka and Maliivka, Dnipropetrovsk Oblast on June 25 and 26. [...] The commander of a Ukrainian battalion operating in the Lyman direction reported on June 26 that Russian forces are using guided glide bombs and first-person view (FPV) drones to target Ukrainian logistics centers and drone pilots on the front lines as well as concentrations of personnel and recreation areas.',\n",
       "  'score': 0.49436116},\n",
       " {'title': 'Russia - Ukraine War Updates: Key Developments as of June 21, 2025',\n",
       "  'url': 'https://ukrainefrontlines.com/news/conflict-zone/russia-ukraine-war-updates-key-developments-as-of-june-21-2025/',\n",
       "  'content': \"Russia - Ukraine war latest updates from the General Staff of Ukraine as of June 21, 2025. 1,214 day of the russian large-scale invasion and 4,126 day of the russia's war against Ukraine begins.\",\n",
       "  'score': 0.47913864}]"
      ]
     },
     "execution_count": 70,
     "metadata": {},
     "output_type": "execute_result"
    }
   ],
   "source": [
    "tavily.invoke(\"recent news on war\")"
   ]
  },
  {
   "cell_type": "code",
   "execution_count": 71,
   "id": "afa8c27f",
   "metadata": {},
   "outputs": [],
   "source": [
    "# Combining all the tools\n",
    "tools=[tavily,arxiv_tool,wiki_tool,add,multiply,divide]"
   ]
  },
  {
   "cell_type": "code",
   "execution_count": 72,
   "id": "60c7fef6",
   "metadata": {},
   "outputs": [
    {
     "data": {
      "text/plain": [
       "ChatGroq(client=<groq.resources.chat.completions.Completions object at 0x000001A404A4D1F0>, async_client=<groq.resources.chat.completions.AsyncCompletions object at 0x000001A404A51E80>, model_name='gemma2-9b-it', model_kwargs={}, groq_api_key=SecretStr('**********'))"
      ]
     },
     "execution_count": 72,
     "metadata": {},
     "output_type": "execute_result"
    }
   ],
   "source": [
    "## Initializing the LLM model\n",
    "from langchain_groq import ChatGroq\n",
    "llm=ChatGroq(model=\"gemma2-9b-it\")\n",
    "llm"
   ]
  },
  {
   "cell_type": "code",
   "execution_count": 73,
   "id": "a0bcc10e",
   "metadata": {},
   "outputs": [],
   "source": [
    "# Binding tools with LLM\n",
    "llm_with_tools=llm.bind_tools(tools)"
   ]
  },
  {
   "cell_type": "code",
   "execution_count": 74,
   "id": "ad61231f",
   "metadata": {},
   "outputs": [
    {
     "data": {
      "text/plain": [
       "AIMessage(content='', additional_kwargs={'tool_calls': [{'id': 'ek3jbbnqm', 'function': {'arguments': '{\"query\":\"recent AI news\"}', 'name': 'tavily_search_results_json'}, 'type': 'function'}]}, response_metadata={'token_usage': {'completion_tokens': 88, 'prompt_tokens': 1703, 'total_tokens': 1791, 'completion_time': 0.16, 'prompt_time': 0.059912056, 'queue_time': 0.254110314, 'total_time': 0.219912056}, 'model_name': 'gemma2-9b-it', 'system_fingerprint': 'fp_10c08bf97d', 'finish_reason': 'tool_calls', 'logprobs': None}, id='run--735e7b35-84c8-48b8-9cda-25a7171d3844-0', tool_calls=[{'name': 'tavily_search_results_json', 'args': {'query': 'recent AI news'}, 'id': 'ek3jbbnqm', 'type': 'tool_call'}], usage_metadata={'input_tokens': 1703, 'output_tokens': 88, 'total_tokens': 1791})"
      ]
     },
     "execution_count": 74,
     "metadata": {},
     "output_type": "execute_result"
    }
   ],
   "source": [
    "from pprint import pprint \n",
    "from langchain_core.messages import AIMessage,HumanMessage\n",
    "llm_with_tools.invoke([HumanMessage(content=\"What is the recent AI news\")])"
   ]
  },
  {
   "cell_type": "code",
   "execution_count": 75,
   "id": "1b7b59f9",
   "metadata": {},
   "outputs": [
    {
     "data": {
      "text/plain": [
       "[{'name': 'tavily_search_results_json',\n",
       "  'args': {'query': 'recent AI news'},\n",
       "  'id': 'cv1vm34t1',\n",
       "  'type': 'tool_call'}]"
      ]
     },
     "execution_count": 75,
     "metadata": {},
     "output_type": "execute_result"
    }
   ],
   "source": [
    "llm_with_tools.invoke([HumanMessage(content=\"What is the recent AI news\")]).tool_calls"
   ]
  },
  {
   "cell_type": "code",
   "execution_count": 76,
   "id": "b52575e0",
   "metadata": {},
   "outputs": [],
   "source": [
    "from typing_extensions import TypedDict, Annotated\n",
    "from typing import List\n",
    "from langchain_core.messages import AnyMessage\n",
    "from langgraph.graph.message import add_messages\n",
    "\n",
    "class State(TypedDict):\n",
    "    messages: Annotated[List[AnyMessage], add_messages]\n"
   ]
  },
  {
   "cell_type": "code",
   "execution_count": 77,
   "id": "b0245663",
   "metadata": {},
   "outputs": [],
   "source": [
    "# Combining all the tools\n",
    "tools=[tavily,arxiv_tool,wiki_tool,add,multiply,divide]"
   ]
  },
  {
   "cell_type": "code",
   "execution_count": 78,
   "id": "39aaded0",
   "metadata": {},
   "outputs": [
    {
     "data": {
      "image/png": "[encoded data removed]",
      "text/plain": [
       "<IPython.core.display.Image object>"
      ]
     },
     "metadata": {},
     "output_type": "display_data"
    }
   ],
   "source": [
    "## Entire Chatbot with LangGraph\n",
    "from IPython.display import Image,display\n",
    "from langgraph.graph import StateGraph,START,END\n",
    "from langgraph.prebuilt import ToolNode\n",
    "from langgraph.prebuilt import tools_condition\n",
    "\n",
    "## Node defination\n",
    "def tool_calling_llm(state:State):\n",
    "    return {\"messages\":[llm_with_tools.invoke(state[\"messages\"])]}\n",
    "\n",
    "\n",
    "#Build graph\n",
    "graph=StateGraph(State)\n",
    "\n",
    "# Add Nodes\n",
    "graph.add_node(\"tool_calling_llm\",tool_calling_llm)\n",
    "graph.add_node(\"tools\",ToolNode(tools))\n",
    "\n",
    "# Add edges\n",
    "graph.add_edge(START,\"tool_calling_llm\")\n",
    "graph.add_conditional_edges(\n",
    "    \"tool_calling_llm\",\n",
    "    tools_condition\n",
    ")\n",
    "\n",
    "\n",
    "## MAJORRRRR change in ReAct Agent Architecture\n",
    "graph.add_edge(\"tools\",\"tool_calling_llm\")\n",
    "\n",
    "final_graph=graph.compile()\n",
    "\n",
    "# Display\n",
    "\n",
    "display(Image(final_graph.get_graph().draw_mermaid_png()))"
   ]
  },
  {
   "cell_type": "code",
   "execution_count": 79,
   "id": "273c7d56",
   "metadata": {},
   "outputs": [
    {
     "name": "stdout",
     "output_type": "stream",
     "text": [
      "================================\u001b[1m Human Message \u001b[0m=================================\n",
      "\n",
      "What is recent news about india,add 2 plus 2 then multiply by 100\n",
      "==================================\u001b[1m Ai Message \u001b[0m==================================\n",
      "Tool Calls:\n",
      "  tavily_search_results_json (yag4yh5jq)\n",
      " Call ID: yag4yh5jq\n",
      "  Args:\n",
      "    query: recent news about india\n",
      "=================================\u001b[1m Tool Message \u001b[0m=================================\n",
      "Name: tavily_search_results_json\n",
      "\n",
      "[{\"title\": \"India | Latest News & Updates - BBC\", \"url\": \"https://www.bbc.com/news/world/asia/india\", \"content\": \"The BBC's Samira Hussain reports from a hospital where the dead and injured have been taken.\\n\\n## Latest updates\\n\\nAircraft debris at the crash site of Air India Ltd. flight AI171 in Ahmedabad, Gujarat, India, on Thursday, June 12, 2025. An Air India Boeing 787 Dreamliner traveling from Ahmedabad to London's Gatwick airport crashed shortly after taking off, in what stands to be the most serious accident involving the US planemaker's most advanced wide-body airliner. [...] Aircraft debris at the crash site of Air India Ltd. flight AI171 in Ahmedabad, Gujarat, India, on Thursday, June 12, 2025. An Air India Boeing 787 Dreamliner traveling from Ahmedabad to London's Gatwick airport crashed shortly after taking off, in what stands to be the most serious accident involving the US planemaker's most advanced wide-body airliner.\\n\\n## India recovers data from crashed Air India flight recorders [...] Aircraft debris at the crash site of Air India Ltd. flight AI171 in Ahmedabad, Gujarat, India, on Thursday, June 12, 2025. An Air India Boeing 787 Dreamliner traveling from Ahmedabad to London's Gatwick airport crashed shortly after taking off, in what stands to be the most serious accident involving the US planemaker's most advanced wide-body airliner.\\n\\n## India recovers data from crashed Air India flight recorders\", \"score\": 0.7593865}, {\"title\": \"India news - breaking news, video, headlines and opinion | CNN\", \"url\": \"https://www.cnn.com/world/india\", \"content\": \"An aerial view shows the sprawling premises of Sun Pharma in Halol, India, March 17, 2025.\\nKalpeshbhqi Patni, 28, mourns as he waits outside the postmortem room at a hospital, for his brother Akash Patni, 14, who died when an Air India Boeing 787-8 Dreamliner plane crashed during take-off from an airport, in Ahmedabad, India, June 13, 2025. REUTERS/Adnan Abidi [...] Rescue officials work at the site where Air India flight 171 crashed in a residential area near the airport in Ahmedabad on June 12, 2025. A London-bound passenger plane crashed in the Indian city of Ahmedabad on June 12 and all 242 people on board were believed killed, with the jet smashing into buildings housing doctors and their families.\\nVishwash Kumar Ramesh, reported by local media to be a survivor of the Air India flight 171 plane crash.\", \"score\": 0.74161834}, {\"title\": \"Latest News - Times of India\", \"url\": \"https://m.timesofindia.com/news\", \"content\": \"Student raped on law college premises; three, including staffer, arrested\\n\\nIn Kolkata, a law college student was allegedly raped on campus, leading to the arrest of three individuals. Police have filed an FIR based on the student's complaint, implicating two current students and a staff member who is also an alumnus. Investigations suggest one accused committed the assault, while the others abetted the crime.\\n\\nWatch: Elephants go on rampage at Jagannath Rath Yatra in Gujarat [...] 'Very big one': Trump hints India, US on cusp of 'great' trade deal; 10 points\\n\\nUS President Donald Trump hinted at a significant trade deal with India, following a recent agreement with China. Negotiations are underway in Washington, led by Chief Negotiator Rajesh Agarwal, aiming to bridge gaps in the proposed bilateral agreement.\\n\\nJSW Paints to acquire AkzoNobel India; deal valued at Rs 8,986 crore [...] Trade talks between India and the US are gaining momentum, potentially leading to a significant agreement. President Trump hinted at a \\\"very big\\\" deal to open up India, focusing on sectors like energy, agriculture, and defense.\\n\\nAmerica’s China threat: Huawei’s new laptop fuels debate on US sanctions\", \"score\": 0.7125728}, {\"title\": \"India News | Today's latest updates and breaking news from India, Live ...\", \"url\": \"https://www.ndtv.com/india\", \"content\": \"Get the latest updates and breaking news from India, including politics, elections, government, business, technology, and Bollywood.\", \"score\": 0.7018975}, {\"title\": \"India News: Latest News India, Today Breaking News Headlines from India ...\", \"url\": \"https://indianexpress.com/section/india/\", \"content\": \"## India finds out about decisions important to it from White House: Congress takes dig on India-US trade deal\\n\\nTrump's remarks come as an Indian team headed by chief negotiator Rajesh Agarwal on Thursday arrived in Washington for the next round of trade talks with the US.\\n\\nBy facilitating automated identity verification procedures and simplifying their interactions with immigration authorities, the Indian e-Passport will make travel easier for Indian nationals. [...] ###### India in touch with China on rare earth supply issue amid export curbs: MEA\\n\\nAmarnath Yatra 2024, Amarnath Yatra registration decline, Pahalgam terror attack impact, Manoj Sinha on Amarnath Yatra, Jammu Kashmir yatra security,\\n\\n###### In Pahalgam attack shadow, Amarnath Yatra sees a dip in registrations\\n\\nWhy an American family journeyed to Patna to scatter ashes in the river [...] President Donald Trump gestures during a press conference after the plenary session at the NATO summit in The Hague, Netherlands, Wednesday, June 25, 2025. (AP Photo/Markus Schreiber)\\nIsrael's envoy to India, Reuven Azar.\\nRamin Jahanbegloo writes: After Iran-Israel war, a different Middle East\\nindian students in US\\nIndia China economy\", \"score\": 0.67706895}]\n",
      "==================================\u001b[1m Ai Message \u001b[0m==================================\n",
      "Tool Calls:\n",
      "  add (wxpnf9daj)\n",
      " Call ID: wxpnf9daj\n",
      "  Args:\n",
      "    a: 4\n",
      "    b: 2\n",
      "=================================\u001b[1m Tool Message \u001b[0m=================================\n",
      "Name: add\n",
      "\n",
      "6\n",
      "==================================\u001b[1m Ai Message \u001b[0m==================================\n",
      "Tool Calls:\n",
      "  multiply (kwkyzfm6g)\n",
      " Call ID: kwkyzfm6g\n",
      "  Args:\n",
      "    a: 6\n",
      "    b: 100\n",
      "=================================\u001b[1m Tool Message \u001b[0m=================================\n",
      "Name: multiply\n",
      "\n",
      "600\n",
      "==================================\u001b[1m Ai Message \u001b[0m==================================\n",
      "\n",
      "600\n"
     ]
    }
   ],
   "source": [
    "messages=final_graph.invoke({\"messages\":HumanMessage(content=\"What is recent news about india,add 2 plus 2 then multiply by 100\")})\n",
    "\n",
    "for m in messages[\"messages\"]:\n",
    "    m.pretty_print()"
   ]
  },
  {
   "cell_type": "code",
   "execution_count": 80,
   "id": "6b30af39",
   "metadata": {},
   "outputs": [
    {
     "name": "stdout",
     "output_type": "stream",
     "text": [
      "================================\u001b[1m Human Message \u001b[0m=================================\n",
      "\n",
      "What is Machine Learning\n",
      "==================================\u001b[1m Ai Message \u001b[0m==================================\n",
      "Tool Calls:\n",
      "  wikipedia (8mx377b2d)\n",
      " Call ID: 8mx377b2d\n",
      "  Args:\n",
      "    query: Machine Learning\n",
      "=================================\u001b[1m Tool Message \u001b[0m=================================\n",
      "Name: wikipedia\n",
      "\n",
      "Page: Machine learning\n",
      "Summary: Machine learning (ML) is a field of study in artificial intelligence concerned with the development and study of statistical algorithms that can learn from data and generalise to unseen data, and thus perform tasks without explicit instructions. Within a subdiscipline in machine learning, advances in the field of deep learning have allowed neural networks, a class of statistical algorithms, to surpass many previous machine learning approaches in performance.\n",
      "ML fi\n",
      "==================================\u001b[1m Ai Message \u001b[0m==================================\n",
      "\n",
      "Machine learning (ML) is a field of study in artificial intelligence concerned with the development and study of statistical algorithms that can learn from data and generalise to unseen data, and thus perform tasks without explicit instructions.\n"
     ]
    }
   ],
   "source": [
    "messages=final_graph.invoke({\"messages\":HumanMessage(content=\"What is Machine Learning\")})\n",
    "\n",
    "for m in messages[\"messages\"]:\n",
    "    m.pretty_print()"
   ]
  },
  {
   "cell_type": "code",
   "execution_count": 81,
   "id": "d8bc3c34",
   "metadata": {},
   "outputs": [
    {
     "data": {
      "text/plain": [
       "{'messages': [HumanMessage(content='What is Machine Learning', additional_kwargs={}, response_metadata={}, id='04fb6a3a-00a4-4e84-a140-3009d5e699aa'),\n",
       "  AIMessage(content='', additional_kwargs={'tool_calls': [{'id': '8mx377b2d', 'function': {'arguments': '{\"query\":\"Machine Learning\"}', 'name': 'wikipedia'}, 'type': 'function'}]}, response_metadata={'token_usage': {'completion_tokens': 80, 'prompt_tokens': 1701, 'total_tokens': 1781, 'completion_time': 0.145454545, 'prompt_time': 0.072241551, 'queue_time': 0.25419242799999997, 'total_time': 0.217696096}, 'model_name': 'gemma2-9b-it', 'system_fingerprint': 'fp_10c08bf97d', 'finish_reason': 'tool_calls', 'logprobs': None}, id='run--ce0f7a3d-d0eb-445a-8b31-078fb5991d31-0', tool_calls=[{'name': 'wikipedia', 'args': {'query': 'Machine Learning'}, 'id': '8mx377b2d', 'type': 'tool_call'}], usage_metadata={'input_tokens': 1701, 'output_tokens': 80, 'total_tokens': 1781}),\n",
       "  ToolMessage(content='Page: Machine learning\\nSummary: Machine learning (ML) is a field of study in artificial intelligence concerned with the development and study of statistical algorithms that can learn from data and generalise to unseen data, and thus perform tasks without explicit instructions. Within a subdiscipline in machine learning, advances in the field of deep learning have allowed neural networks, a class of statistical algorithms, to surpass many previous machine learning approaches in performance.\\nML fi', name='wikipedia', id='f62b9670-2e2f-4079-b0eb-dc6d29de1b10', tool_call_id='8mx377b2d'),\n",
       "  AIMessage(content='Machine learning (ML) is a field of study in artificial intelligence concerned with the development and study of statistical algorithms that can learn from data and generalise to unseen data, and thus perform tasks without explicit instructions. \\n\\n\\n', additional_kwargs={}, response_metadata={'token_usage': {'completion_tokens': 46, 'prompt_tokens': 1863, 'total_tokens': 1909, 'completion_time': 0.083636364, 'prompt_time': 0.106122469, 'queue_time': 0.24943309000000002, 'total_time': 0.189758833}, 'model_name': 'gemma2-9b-it', 'system_fingerprint': 'fp_10c08bf97d', 'finish_reason': 'stop', 'logprobs': None}, id='run--531ee6c5-70bc-43c8-b930-16813fd5df13-0', usage_metadata={'input_tokens': 1863, 'output_tokens': 46, 'total_tokens': 1909})]}"
      ]
     },
     "execution_count": 81,
     "metadata": {},
     "output_type": "execute_result"
    }
   ],
   "source": [
    "messages"
   ]
  },
  {
   "cell_type": "code",
   "execution_count": 82,
   "id": "adb5c33a",
   "metadata": {},
   "outputs": [
    {
     "name": "stdout",
     "output_type": "stream",
     "text": [
      "================================\u001b[1m Human Message \u001b[0m=================================\n",
      "\n",
      "Add 2 and 4\n",
      "==================================\u001b[1m Ai Message \u001b[0m==================================\n",
      "Tool Calls:\n",
      "  add (0s6n1sged)\n",
      " Call ID: 0s6n1sged\n",
      "  Args:\n",
      "    a: 2\n",
      "    b: 4\n",
      "=================================\u001b[1m Tool Message \u001b[0m=================================\n",
      "Name: add\n",
      "\n",
      "6\n",
      "==================================\u001b[1m Ai Message \u001b[0m==================================\n",
      "Tool Calls:\n",
      "  multiply (m3n485vqd)\n",
      " Call ID: m3n485vqd\n",
      "  Args:\n",
      "    a: 6\n",
      "    b: 7\n",
      "=================================\u001b[1m Tool Message \u001b[0m=================================\n",
      "Name: multiply\n",
      "\n",
      "42\n",
      "==================================\u001b[1m Ai Message \u001b[0m==================================\n",
      "\n",
      "42\n"
     ]
    }
   ],
   "source": [
    "messages=final_graph.invoke({\"messages\":HumanMessage(content=\"Add 2 and 4\")})\n",
    "\n",
    "for m in messages[\"messages\"]:\n",
    "    m.pretty_print()"
   ]
  },
  {
   "cell_type": "markdown",
   "id": "4367c773",
   "metadata": {},
   "source": [
    "### Here we are getting wronge or no answers due to no history "
   ]
  },
  {
   "cell_type": "code",
   "execution_count": 83,
   "id": "a60dab7a",
   "metadata": {},
   "outputs": [
    {
     "data": {
      "text/plain": [
       "'messages=final_graph.invoke({\"messages\":HumanMessage(content=\"please multiply that by 2\")})\\n\\nfor m in messages[\"messages\"]:\\n    m.pretty_print()'"
      ]
     },
     "execution_count": 83,
     "metadata": {},
     "output_type": "execute_result"
    }
   ],
   "source": [
    "'''messages=final_graph.invoke({\"messages\":HumanMessage(content=\"please multiply that by 2\")})\n",
    "\n",
    "for m in messages[\"messages\"]:\n",
    "    m.pretty_print()'''"
   ]
  },
  {
   "cell_type": "markdown",
   "id": "a9d998a6",
   "metadata": {},
   "source": [
    "# Memory Saver in LangGrpah"
   ]
  },
  {
   "cell_type": "code",
   "execution_count": 84,
   "id": "3281e145",
   "metadata": {},
   "outputs": [
    {
     "data": {
      "text/plain": [
       "<langgraph.graph.state.StateGraph at 0x1a404a57bf0>"
      ]
     },
     "execution_count": 84,
     "metadata": {},
     "output_type": "execute_result"
    }
   ],
   "source": [
    "## Entire Chatbot with LangGraph\n",
    "from IPython.display import Image,display\n",
    "from langgraph.graph import StateGraph,START,END\n",
    "from langgraph.prebuilt import ToolNode\n",
    "from langgraph.prebuilt import tools_condition\n",
    "\n",
    "## Node defination\n",
    "def tool_calling_llm(state:State):\n",
    "    return {\"messages\":[llm_with_tools.invoke(state[\"messages\"])]}\n",
    "\n",
    "\n",
    "#Build graph\n",
    "graph=StateGraph(State)\n",
    "\n",
    "# Add Nodes\n",
    "graph.add_node(\"tool_calling_llm\",tool_calling_llm)\n",
    "graph.add_node(\"tools\",ToolNode(tools))\n",
    "\n",
    "# Add edges\n",
    "graph.add_edge(START,\"tool_calling_llm\")\n",
    "graph.add_conditional_edges(\n",
    "    \"tool_calling_llm\",\n",
    "    tools_condition\n",
    ")\n",
    "\n",
    "\n",
    "## MAJORRRRR change in ReAct Agent Architecture\n",
    "graph.add_edge(\"tools\",\"tool_calling_llm\")\n"
   ]
  },
  {
   "cell_type": "markdown",
   "id": "79238add",
   "metadata": {},
   "source": [
    "## Enabling the Memory Saver"
   ]
  },
  {
   "cell_type": "code",
   "execution_count": 85,
   "id": "466af5cc",
   "metadata": {},
   "outputs": [
    {
     "data": {
      "image/png": "[encoded data removed]",
      "text/plain": [
       "<IPython.core.display.Image object>"
      ]
     },
     "metadata": {},
     "output_type": "display_data"
    }
   ],
   "source": [
    "from langgraph.checkpoint.memory import MemorySaver\n",
    "memory=MemorySaver()\n",
    "graph_with_memory=graph.compile(checkpointer=memory)\n",
    "\n",
    "display(Image(graph_with_memory.get_graph().draw_mermaid_png()))"
   ]
  },
  {
   "cell_type": "code",
   "execution_count": 86,
   "id": "0212cc8e",
   "metadata": {},
   "outputs": [
    {
     "name": "stdout",
     "output_type": "stream",
     "text": [
      "================================\u001b[1m Human Message \u001b[0m=================================\n",
      "\n",
      "Add 3 and 4\n",
      "==================================\u001b[1m Ai Message \u001b[0m==================================\n",
      "Tool Calls:\n",
      "  add (297bxhtme)\n",
      " Call ID: 297bxhtme\n",
      "  Args:\n",
      "    a: 3\n",
      "    b: 4\n",
      "=================================\u001b[1m Tool Message \u001b[0m=================================\n",
      "Name: add\n",
      "\n",
      "7\n",
      "==================================\u001b[1m Ai Message \u001b[0m==================================\n",
      "Tool Calls:\n",
      "  add (2bepqxh28)\n",
      " Call ID: 2bepqxh28\n",
      "  Args:\n",
      "    a: 3\n",
      "    b: 4\n",
      "=================================\u001b[1m Tool Message \u001b[0m=================================\n",
      "Name: add\n",
      "\n",
      "7\n",
      "==================================\u001b[1m Ai Message \u001b[0m==================================\n",
      "\n",
      "7\n"
     ]
    }
   ],
   "source": [
    "## Specify the thread\n",
    "\n",
    "config={\"configurable\":{\"thread_id\":\"1\"}}\n",
    "\n",
    "messages=[HumanMessage(content=\"Add 3 and 4\")]\n",
    "\n",
    "messages=graph_with_memory.invoke({\"messages\":messages},config=config)\n",
    "\n",
    "for m in messages[\"messages\"]:\n",
    "    m.pretty_print()\n",
    "\n"
   ]
  },
  {
   "cell_type": "code",
   "execution_count": 87,
   "id": "847b4f73",
   "metadata": {},
   "outputs": [
    {
     "name": "stdout",
     "output_type": "stream",
     "text": [
      "================================\u001b[1m Human Message \u001b[0m=================================\n",
      "\n",
      "Add 3 and 4\n",
      "==================================\u001b[1m Ai Message \u001b[0m==================================\n",
      "Tool Calls:\n",
      "  add (297bxhtme)\n",
      " Call ID: 297bxhtme\n",
      "  Args:\n",
      "    a: 3\n",
      "    b: 4\n",
      "=================================\u001b[1m Tool Message \u001b[0m=================================\n",
      "Name: add\n",
      "\n",
      "7\n",
      "==================================\u001b[1m Ai Message \u001b[0m==================================\n",
      "Tool Calls:\n",
      "  add (2bepqxh28)\n",
      " Call ID: 2bepqxh28\n",
      "  Args:\n",
      "    a: 3\n",
      "    b: 4\n",
      "=================================\u001b[1m Tool Message \u001b[0m=================================\n",
      "Name: add\n",
      "\n",
      "7\n",
      "==================================\u001b[1m Ai Message \u001b[0m==================================\n",
      "\n",
      "7\n",
      "================================\u001b[1m Human Message \u001b[0m=================================\n",
      "\n",
      "please multiply that by 2\n",
      "==================================\u001b[1m Ai Message \u001b[0m==================================\n",
      "Tool Calls:\n",
      "  multiply (bkvp4nkd6)\n",
      " Call ID: bkvp4nkd6\n",
      "  Args:\n",
      "    a: 7\n",
      "    b: 2\n",
      "=================================\u001b[1m Tool Message \u001b[0m=================================\n",
      "Name: multiply\n",
      "\n",
      "14\n",
      "==================================\u001b[1m Ai Message \u001b[0m==================================\n",
      "\n",
      "14\n"
     ]
    }
   ],
   "source": [
    "config={\"configurable\":{\"thread_id\":\"1\"}}\n",
    "messages=graph_with_memory.invoke({\"messages\":HumanMessage(content=\"please multiply that by 2\")},config=config)\n",
    "\n",
    "for m in messages[\"messages\"]:\n",
    "    m.pretty_print()"
   ]
  },
  {
   "cell_type": "code",
   "execution_count": null,
   "id": "eb075886",
   "metadata": {},
   "outputs": [],
   "source": []
  }
 ],
 "metadata": {
  "kernelspec": {
   "display_name": "Python 3",
   "language": "python",
   "name": "python3"
  },
  "language_info": {
   "codemirror_mode": {
    "name": "ipython",
    "version": 3
   },
   "file_extension": ".py",
   "mimetype": "text/x-python",
   "name": "python",
   "nbconvert_exporter": "python",
   "pygments_lexer": "ipython3",
   "version": "3.12.0"
  }
 },
 "nbformat": 4,
 "nbformat_minor": 5
}
